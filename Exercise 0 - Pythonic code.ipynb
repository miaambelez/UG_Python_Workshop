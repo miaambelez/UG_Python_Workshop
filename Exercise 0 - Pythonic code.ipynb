{
 "cells": [
  {
   "cell_type": "code",
   "execution_count": null,
   "metadata": {},
   "outputs": [],
   "source": [
    "# Preliminary: if running on Colab, get the data from GitHub\n",
    "try:\n",
    "  import google.colab\n",
    "  print(\"Downloading data from GitHub...\")\n",
    "  !wget -nc -P'Data' https://github.com/miaambelez/UG_Python_Workshop/raw/main/Data/two_sums_20000.pkl\n",
    "  !wget -nc -P'Data' https://github.com/miaambelez/UG_Python_Workshop/raw/main/Data/two_sums_200000.pkl\n",
    "  print(\"...done!\")\n",
    "except:\n",
    "  print(\"Running locally, data should be already on path!\")"
   ]
  },
  {
   "cell_type": "markdown",
   "metadata": {},
   "source": [
    "# Pythonic principles"
   ]
  },
  {
   "cell_type": "markdown",
   "metadata": {},
   "source": [
    "### PEP 8: The Style Guide for Python Code\n",
    "PEP 8 stands for Python Enhancement Proposal #8. It's essentially a set of rules and guidelines for formatting Python code. Adhering to PEP 8 helps make your code more readable and maintainable, not just for you but for others who may work on your code in the future. Some key aspects include naming conventions, indentation, line spacing, and avoiding overly complex expressions. Think of it as the etiquette for writing Python code, ensuring that it's clean, easy to read, and aesthetically pleasing.\n",
    "You can find the full PEP8 guid on: https://pep8.org/\n",
    "\n",
    "As an example, the guidelines on naming convetions state: \n",
    "- Function names should be lowercase, with words separated by underscores.\n",
    "- Constants should be in all uppercase, with words separated by underscores.\n",
    "- Variable names should be lowercase, with words separated by underscores for readability.\n"
   ]
  },
  {
   "cell_type": "markdown",
   "metadata": {},
   "source": [
    "#### Exercise 1: Naming Conventions\n",
    "PEP 8 advises using specific naming styles for different parts of your code like variables, functions, classes, and constants. This helps differentiate between the types of entities in your code at a glance.\n",
    "\n",
    "**Task**: Correct the naming of the following entities according to PEP 8.\n",
    "\n"
   ]
  },
  {
   "cell_type": "code",
   "execution_count": null,
   "metadata": {},
   "outputs": [],
   "source": [
    "def calculateArea(radius):\n",
    "    PI_CONSTANT = 3.14159\n",
    "    area_of_circle = PI_CONSTANT * radius ** 2\n",
    "    return area_of_circle\n",
    "\n",
    "customerName = \"John Doe\"\n",
    "listofemails = ['john@example.com', 'jane@example.com']"
   ]
  },
  {
   "cell_type": "markdown",
   "metadata": {},
   "source": [
    "#### Exercise 2: Indentation and Line Length\n",
    "PEP 8 recommends using 4 spaces per indentation level and keeping lines to 79 characters or less. This ensures that your code is visually aligned and can be easily read without scrolling horizontally.\n",
    "- Use 4 spaces for each indentation level.\n",
    "- Break down lines to ensure they don't exceed 79 characters.\n",
    "- Separate logical sections of your code with blank lines to improve readability.\n",
    "\n",
    "**Task**: Reformat the code below to meet PEP 8 indentation and line length recommendations."
   ]
  },
  {
   "cell_type": "code",
   "execution_count": null,
   "metadata": {},
   "outputs": [],
   "source": [
    "def function(x, y): return x**2 + y**2, x + y\n",
    "result = function(5, 7); print(\"The result is:\", result)"
   ]
  },
  {
   "cell_type": "markdown",
   "metadata": {},
   "source": [
    "\n",
    "### Data Structures in Python\n",
    "Data structures are ways of organizing and storing data in a computer so that it can be accessed and modified efficiently. Python has several built-in data structures that are very useful and easy to use. Understanding these is crucial for solving various programming problems. The following are essential data structures, but please note that this is not an exhaustive list:\n",
    "\n",
    "- Lists: Ordered and mutable collections of items. Lists can contain items of different types, including other lists.\n",
    "\n",
    "- Tuples: Ordered and immutable collections of items. Tuples are used for data that should not change after its creation.\n",
    "\n",
    "- Dictionaries: Unordered collections of key-value pairs. They are fast because they use hashing, allowing you to quickly look up the value associated with a given key.\n",
    "\n",
    "- Sets: Unordered collections of unique items. They are useful for membership testing, removing duplicates, and set operations like union, intersection, etc."
   ]
  },
  {
   "cell_type": "markdown",
   "metadata": {},
   "source": [
    "#### Exercise 1: Basic list usage\n",
    "Task: Create a list named colors containing three colors. Then add a new color to the list and remove one."
   ]
  },
  {
   "cell_type": "code",
   "execution_count": null,
   "metadata": {},
   "outputs": [],
   "source": [
    "# Add your code here:\n"
   ]
  },
  {
   "cell_type": "markdown",
   "metadata": {},
   "source": [
    "#### Exercise 2: List comprehensions\n",
    "For those already familiar with lists and how they work, the next step is to understand and write list comprehensions. List comprehensions provide a concise way to create lists by integrating a loop, conditional logic, and assignment in a single, readable line, embodying the Pythonic principle of clear, efficient, and elegant coding. \n",
    "As an example, consider the this list comprehension that creates a list of squares for the numbers from 1 to 5:"
   ]
  },
  {
   "cell_type": "code",
   "execution_count": null,
   "metadata": {},
   "outputs": [],
   "source": [
    "# Example of list comprehensions:\n",
    "squares = [x**2 for x in range(1, 6)]\n",
    "print(squares)"
   ]
  },
  {
   "cell_type": "markdown",
   "metadata": {},
   "source": [
    "Now consider the following code snippet, it iterates over a list of numbers, checks each number to see if it is even, and if so, multiplies it by 2 and adds it to a new list. "
   ]
  },
  {
   "cell_type": "code",
   "execution_count": null,
   "metadata": {},
   "outputs": [],
   "source": [
    "numbers = [1, 2, 3, 4, 5, 6, 7, 8, 9, 10]\n",
    "\n",
    "doubled_evens = []  # Initialize an empty list to hold the results\n",
    "\n",
    "for num in numbers:\n",
    "    if num % 2 == 0:  # Check if the number is even\n",
    "        doubled_evens.append(num * 2)  # Multiply the number by 2 and add it to the list\n",
    "\n",
    "print(\"Original list:\", numbers)\n",
    "print(\"Doubled even numbers:\", doubled_evens)"
   ]
  },
  {
   "cell_type": "markdown",
   "metadata": {},
   "source": [
    "The challenge in this exercise is to write a list comprehension that is able to do this in one line of code. Try your hand at it in the cell below:"
   ]
  },
  {
   "cell_type": "code",
   "execution_count": null,
   "metadata": {},
   "outputs": [],
   "source": [
    "# Answer: \n"
   ]
  },
  {
   "cell_type": "markdown",
   "metadata": {},
   "source": [
    "### Functions in Python\n",
    "Functions are reusable blocks of code designed to perform a specific task. Defined using the def keyword, followed by the function name and parentheses containing any parameters, functions encapsulate code for easy modularity and reuse. Once defined, a function can be called anywhere in your code by its name, allowing for cleaner, more organized, and efficient programming. Functions can return values using the return statement, allowing the function to pass data back to the caller. They are fundamental in Python, helping to break down complex problems into smaller, manageable tasks, and promoting code reuse and maintainability.\n",
    "\n",
    "The following is a template for a function in python. It includes:\n",
    "- function_name: The name of the function, which should be descriptive and follow Python naming conventions.\n",
    "- parameter1, parameter2, ...: Parameters the function takes as input, which are variables used within the function.\n",
    "- A docstring: A multi-line comment that explains the function's purpose, its parameters, and what it returns. This is important for documentation and readability.\n",
    "- The function body: The code block where the function's operations are defined.\n",
    "- A return statement: This is optional, depending on whether your function needs to return a value."
   ]
  },
  {
   "cell_type": "code",
   "execution_count": null,
   "metadata": {},
   "outputs": [],
   "source": [
    "def function_name(parameter1, parameter2, parameter3, ...):\n",
    "    \"\"\"\n",
    "    Docstring explaining the function's purpose and usage.\n",
    "\n",
    "    Parameters:\n",
    "    parameter1: Description of parameter1.\n",
    "    parameter2: Description of parameter2.\n",
    "    parameter3: Description of parameter3.\n",
    "    ...\n",
    "\n",
    "    Returns:\n",
    "    Description of what the function returns.\n",
    "    \"\"\"\n",
    "    # Function body starts here\n",
    "    # Perform operations using parameters\n",
    "    if parameter3:\n",
    "        result = parameter1 + parameter2  # Example operation\n",
    "    else:\n",
    "        result = parameter1 - parameter2\n",
    "\n",
    "    # Return the result (if applicable)\n",
    "    return result"
   ]
  },
  {
   "cell_type": "markdown",
   "metadata": {},
   "source": [
    "### Type hinting\n",
    "\n",
    "To improve code readability and maintainability (and spend less time debugging!), it is useful to add **type hints** in your function. This basically means indicating the type of values your function takes as argument(s) and which type of value(s) it returns. \n",
    "\n",
    "For the function in the example above, `parameter1` and `parameter2` are numbers and `parameter3` is a boolean. The value the function returns is also a number. Then the code can be updated as follows with type hints:"
   ]
  },
  {
   "cell_type": "code",
   "execution_count": null,
   "metadata": {},
   "outputs": [],
   "source": [
    "def function_name(\n",
    "        parameter1: float, \n",
    "        parameter2: float, \n",
    "        parameter3: bool,\n",
    "        ) -> float:\n",
    "    \"\"\"\n",
    "    Docstring explaining the function's purpose and usage.\n",
    "\n",
    "    Parameters:\n",
    "    parameter1: Description of parameter1.\n",
    "    parameter2: Description of parameter2.\n",
    "    parameter3: Description of parameter3.\n",
    "\n",
    "    Returns:\n",
    "    Description of what the function returns.\n",
    "    \"\"\"\n",
    "    # Function body starts here\n",
    "    # Perform operations using parameters\n",
    "    if parameter3:\n",
    "        result = parameter1 + parameter2  # Example operation\n",
    "    else:\n",
    "        result = parameter1 - parameter2\n",
    "\n",
    "    # Return the result (if applicable)\n",
    "    return result"
   ]
  },
  {
   "cell_type": "markdown",
   "metadata": {},
   "source": [
    "#### Exercise 3: Function\n",
    "Use the template to write a function that doubles even numbers, as in the previous exercise. If you want, add also type hinting."
   ]
  },
  {
   "cell_type": "code",
   "execution_count": null,
   "metadata": {},
   "outputs": [],
   "source": [
    "# Your function goes here: \n"
   ]
  },
  {
   "cell_type": "markdown",
   "metadata": {},
   "source": [
    "### Decorator functions\n",
    "A decorator in Python is a function that takes another function as an argument, extends its behavior without explicitly modifying it, and returns the modified function, providing a flexible and reusable way to augment function functionality. Decorators are useful because they allow for the extension and modification of function behavior in a clean, readable, and maintainable way. They enable code reuse, reduce redundancy, and can add functionality to existing functions or methods without altering their core logic. This is particularly valuable in scenarios where you want to apply the same piece of code, like logging, authorization, or performance timing, across multiple functions or methods, thus adhering to the \"Don't Repeat Yourself\" (DRY) principle. By separating concerns, decorators enhance code modularity and clarity, making it easier to manage and extend.\n",
    "\n",
    "In the example below, we create wrapper function called log_execution, which prints information for logging info in execution of the function. You implement a decorator with an @ statement by placing it directly above a function definition, followed by the decorator function name, to automatically wrap and modify the behavior of the function it decorates."
   ]
  },
  {
   "cell_type": "code",
   "execution_count": null,
   "metadata": {},
   "outputs": [],
   "source": [
    "def log_execution(func):\n",
    "    def wrapper(*args, **kwargs):\n",
    "        print(f\"Executing {func.__name__}...\")\n",
    "        result = func(*args, **kwargs)\n",
    "        print(f\"{func.__name__} executed.\")\n",
    "        return result\n",
    "    return wrapper\n",
    "\n",
    "@log_execution\n",
    "def double_even_numbers(numbers):\n",
    "    return [num * 2 for num in numbers if num % 2 == 0]\n",
    "\n"
   ]
  },
  {
   "cell_type": "code",
   "execution_count": null,
   "metadata": {},
   "outputs": [],
   "source": [
    "# Testing the decorated function\n",
    "numbers = [1, 2, 3, 4, 5, 6]\n",
    "double_even_numbers(numbers)"
   ]
  },
  {
   "cell_type": "markdown",
   "metadata": {},
   "source": [
    "#### Exercise 5: Add time measurement in a decorator"
   ]
  },
  {
   "cell_type": "markdown",
   "metadata": {},
   "source": [
    "Write a decorator named time_execution that measures the time in nanoseconds that| a function takes to execute and prints this duration. \n",
    "Write your decorator and add it to your function below:"
   ]
  },
  {
   "cell_type": "code",
   "execution_count": null,
   "metadata": {},
   "outputs": [],
   "source": [
    "import time\n",
    "\n",
    "def time_execution(func):\n",
    "# Your code here:\n",
    "\n"
   ]
  },
  {
   "cell_type": "markdown",
   "metadata": {},
   "source": [
    "Test your decorated function in the cell below:"
   ]
  },
  {
   "cell_type": "code",
   "execution_count": null,
   "metadata": {},
   "outputs": [],
   "source": [
    "# Your code here:"
   ]
  },
  {
   "cell_type": "markdown",
   "metadata": {},
   "source": [
    "### Time complexity and space complexity\n",
    "\n",
    "When you write Python code, at the beginning you will mainly focus about getting to the solutions you need. The more comfortable you get with Python data structures, functions and algorithms, the more you can focus on **optimizing your code**. \n",
    "\n",
    "There are many different ways to optimize your code, often relevant questions are: *how long does it take for my code to run?* and *how much memory is required while my code is running?*\n",
    "\n",
    "Time complexity and space complexity refer to, respectively, the amount of time and the amount of memory required by an algorithm to run **as a function of the input size**.\n",
    "Ideally, you want to optimize both memory and runtime, while keeping readability and simplicity high. But in practice one often has to make compromises. \n",
    "\n",
    "In particular when your input is big, time complexity can impact your work (think of having to wait seconds or minutes or hours for your code to run while you are testing it, it can make a big difference!)."
   ]
  },
  {
   "cell_type": "markdown",
   "metadata": {},
   "source": [
    "#### BONUS Exercise: adding time complexity constraints to your solutions\n",
    "\n",
    "Given an exercise, let's first try to solve it however you feel like it, then we will check whether the solution can be improved in terms of runtime (to test this, we can use the decorator we wrote earlier!)"
   ]
  },
  {
   "cell_type": "markdown",
   "metadata": {},
   "source": [
    "##### Problem statement:\n",
    "\n",
    "Given an array of integers `nums` and an integer `target`, return the indices of the two numbers such that they add up to target. \n",
    "\n",
    "You may assume that each input would have exactly one solution, and you may not use the same element twice."
   ]
  },
  {
   "cell_type": "markdown",
   "metadata": {},
   "source": [
    "##### Run this cell to create a test function `test_func` that we will use to test our algorithms\n"
   ]
  },
  {
   "cell_type": "code",
   "execution_count": null,
   "metadata": {},
   "outputs": [],
   "source": [
    "# run this cell to load the data and create a test fuction that, given a function as input, tests the function and prints the output\n",
    "import pickle\n",
    "with open(\"Data/two_sums_20000.pkl\", \"rb\") as data_set:\n",
    "    data = pickle.load(data_set) \n",
    "with open(\"Data/two_sums_200000.pkl\", \"rb\") as data_set:\n",
    "    bigger_data = pickle.load(data_set) \n",
    "\n",
    "def test_funct(funct, include_big_data=True):\n",
    "\n",
    "    test_sets = [\n",
    "    {\"nums\": [2,7,11,15], \"target\": 9},\n",
    "    {\"nums\": [3,2,4], \"target\": 6},\n",
    "    {\"nums\": [3,3], \"target\": 6},\n",
    "    {\"nums\": data, \"target\": 21}\n",
    "    ]\n",
    "    \n",
    "    if include_big_data is True:\n",
    "        test_set.append({\"nums\": bigger_data, \"target\": 20})\n",
    "\n",
    "    for test_set in test_sets:\n",
    "        nums, target = test_set[\"nums\"], test_set[\"target\"]\n",
    "        indices = funct(nums,target)\n",
    "        print(f\"The indices of the two numbers that sum to {target} are: {indices} and the numbers are: {nums[indices[0]]} and {nums[indices[1]]}\")"
   ]
  },
  {
   "cell_type": "markdown",
   "metadata": {},
   "source": [
    "##### Part 1: just try to solve the problem!"
   ]
  },
  {
   "cell_type": "code",
   "execution_count": null,
   "metadata": {},
   "outputs": [],
   "source": [
    "\n",
    "def two_sum_brute_force(nums, target):\n",
    "# Your code here:\n"
   ]
  },
  {
   "cell_type": "code",
   "execution_count": null,
   "metadata": {},
   "outputs": [],
   "source": [
    "# run this cell to test the function\n",
    "test_funct(two_sum_brute_force, include_big_data=False)\n",
    "\n",
    "#what happens if you run it and include the big data?"
   ]
  },
  {
   "cell_type": "markdown",
   "metadata": {},
   "source": [
    "Reflect on the time complexity of your algorithm. How many times does your code have to iterate through an arbitrary input `nums` before finding the solution?\n",
    "\n",
    "##### Part 2: Can you do better? \n",
    "The most intuitive way to solve Part 1 is with brute forcing (in our case in the answer sheet, it is in quadratic time, or *O(n<sup>2</sup>)*, as worst case scenario the algorithm has to make `len(nums)**2` iterations). And with that kind of algorithms, big inputs might not be manageable 9as you might have noticed by running the code on the bigger dataset). \n",
    "\n",
    "How to improve it? Can you take advantage of anything in the problem statement that would on average lower the runtime? Or can you think about a more efficient algorithm? \n",
    "\n",
    "We have thought of two alternative solutions: one that manipulates the input such that you can apply a search algorithm on the input, and one that takes advantage of Python data structures that allow for a fast retrieval. Can you think of these solution? Can you think of other ways of solving this problem in an efficient way?\n",
    "\n",
    "*NOTE: if you cannot think of another option, it might be useful to check the answer and to at least try to run the algorithms that we have prepared, to get a feeling of the difference in runtime!*"
   ]
  },
  {
   "cell_type": "code",
   "execution_count": null,
   "metadata": {},
   "outputs": [],
   "source": [
    "@time_execution\n",
    "def two_sum_search_algorithm(nums, target):\n",
    "#your code here:"
   ]
  },
  {
   "cell_type": "code",
   "execution_count": null,
   "metadata": {},
   "outputs": [],
   "source": [
    "#run this cell to test the function\n",
    "test_funct(two_sum_search_algorithm)"
   ]
  },
  {
   "cell_type": "code",
   "execution_count": null,
   "metadata": {},
   "outputs": [],
   "source": [
    "@time_execution\n",
    "def two_sum_dictionary(nums, target):\n",
    "#your code here:"
   ]
  },
  {
   "cell_type": "code",
   "execution_count": null,
   "metadata": {},
   "outputs": [],
   "source": [
    "#run this cell to test the function\n",
    "test_funct(two_sum_dictionary)"
   ]
  }
 ],
 "metadata": {
  "kernelspec": {
   "display_name": ".venv",
   "language": "python",
   "name": "python3"
  },
  "language_info": {
   "codemirror_mode": {
    "name": "ipython",
    "version": 3
   },
   "file_extension": ".py",
   "mimetype": "text/x-python",
   "name": "python",
   "nbconvert_exporter": "python",
   "pygments_lexer": "ipython3",
   "version": "3.11.9"
  }
 },
 "nbformat": 4,
 "nbformat_minor": 2
}
