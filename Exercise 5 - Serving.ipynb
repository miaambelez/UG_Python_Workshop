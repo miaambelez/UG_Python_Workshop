{
  "cells": [
    {
      "cell_type": "code",
      "execution_count": null,
      "metadata": {
        "colab": {
          "base_uri": "https://localhost:8080/"
        },
        "id": "SX5z-edVvqft",
        "outputId": "8167ba74-a4ac-48d0-8a7e-5b87481fd2d3"
      },
      "outputs": [],
      "source": [
        "#Preliminary: Install all necessary packages\n",
        "!pip install fastapi\n",
        "!pip install uvicorn\n",
        "!pip install wait4it"
      ]
    },
    {
      "cell_type": "code",
      "execution_count": null,
      "metadata": {
        "colab": {
          "base_uri": "https://localhost:8080/"
        },
        "id": "8qb6vC4pakiX",
        "outputId": "7bd2a4f1-b55f-4df5-d6a6-465eca2d1de8"
      },
      "outputs": [],
      "source": [
        "# Preliminary: if running on Colab, get the data from GitHub\n",
        "try:\n",
        "  import google.colab\n",
        "  print(\"Downloading data from GitHub...\")\n",
        "  !wget -nc -P'Data' https://github.com/miaambelez/UG_Python_Workshop/raw/main/Data/Exercise4.csv\n",
        "  !wget -nc -P'Data' https://github.com/miaambelez/UG_Python_Workshop/raw/main/Data/clf.pkl\n",
        "  print(\"...done!\")\n",
        "except:\n",
        "  print(\"Running locally, data should be already on path!\")"
      ]
    },
    {
      "cell_type": "markdown",
      "metadata": {
        "id": "JexDr_KzfgEa"
      },
      "source": [
        "# 1. Load the data from the previous exercise."
      ]
    },
    {
      "cell_type": "code",
      "execution_count": 11,
      "metadata": {
        "id": "2BitqkataxrP"
      },
      "outputs": [],
      "source": [
        "import pandas as pd\n",
        "import pickle\n",
        "\n",
        "# Load data\n",
        "df = pd.read_csv('Data/Exercise4.csv')\n",
        "\n",
        "# Load the model that we have created in exercise 4\n",
        "file = open(\"Data/clf.pkl\", \"rb\")\n",
        "clf = pickle.load(file)"
      ]
    },
    {
      "cell_type": "markdown",
      "metadata": {
        "id": "GgKXAiPLfnkM"
      },
      "source": [
        "# 2. Set up your API to return predicictions for a single CLIENT_ID\n",
        "\n",
        "We have provided a hello-world example of an API, which you can use just to see how it works. In the commented sections a start is provided to get your API to work with a CLIENT_ID as input. See if you can finish the code!"
      ]
    },
    {
      "cell_type": "code",
      "execution_count": 2,
      "metadata": {
        "id": "tQbM_np9vho-"
      },
      "outputs": [],
      "source": [
        "from fastapi import FastAPI\n",
        "\n",
        "app = FastAPI()\n",
        "\n",
        "@app.get(\"/\")\n",
        "def root(name:str):\n",
        "  return {\"message\": \"Hello, \" + name}\n",
        "\n",
        "# Now try to adjust this for yourself:\n",
        "#def root():\n",
        "  # Filter the dataframe on the right CLIENT_ID\n",
        "#  df_filter =\n",
        "\n",
        "  # Assign the same X-variables as in exercise 4\n",
        "#  X = df_filter[['DATE_OF_BIRTH_YEAR', 'DATE_OF_BIRTH_MONTH',\n",
        "#       'DATE_OF_BIRTH_DAY', 'AGE', 'N_PERIODONTAL', 'N_FILLING',\n",
        "#       'N_ORAL_HYGIENE', 'N_CHECKS', 'N_YEARS', 'PR_DENTIST', 'DPSI',\n",
        "#       'N_FAMILY', 'DIABETES', 'SMOKER']]\n",
        "\n",
        "  # Make a prediction and turn it into a string to be able to return it from the API\n",
        "#  prediction =\n",
        "#  prediction_str = str(prediction[0])\n",
        "#  return {}"
      ]
    },
    {
      "cell_type": "markdown",
      "metadata": {
        "id": "83MJvjawgCKU"
      },
      "source": [
        "# Stuff you can ignore because an API should never run from a notebook. Please ALWAYS make it a separate application."
      ]
    },
    {
      "cell_type": "code",
      "execution_count": 5,
      "metadata": {
        "id": "dUiXMQGQwcPG"
      },
      "outputs": [],
      "source": [
        "# Code in this cell is just for (re)starting the API on a Process, and other compatibility stuff with Jupyter cells.\n",
        "# Just ignore it for this training!\n",
        "from multiprocessing import Process\n",
        "from wait4it import wait_for\n",
        "import uvicorn\n",
        "\n",
        "def run(): uvicorn.run(app)\n",
        "\n",
        "_api_process = None\n",
        "\n",
        "def start_api():\n",
        "    \"\"\"Stop the API if running; Start the API; Wait until API (port) is available (reachable)\"\"\"\n",
        "    global _api_process\n",
        "    if _api_process:\n",
        "        _api_process.terminate()\n",
        "        _api_process.join()\n",
        "\n",
        "    _api_process = Process(target=run, daemon=True)\n",
        "    _api_process.start()\n",
        "    wait_for(port=8000)\n",
        "\n",
        "def delete_route(method: str, path: str):\n",
        "    \"\"\"Delete the given route from the API. This must be called on cells that re-define a route\"\"\"\n",
        "    [app.routes.remove(route) for route in app.routes if method in route.methods and route.path == path]"
      ]
    },
    {
      "cell_type": "markdown",
      "metadata": {
        "id": "4UOoCTJhgM0g"
      },
      "source": [
        "# 4. Start up your API"
      ]
    },
    {
      "cell_type": "code",
      "execution_count": null,
      "metadata": {
        "colab": {
          "base_uri": "https://localhost:8080/"
        },
        "id": "nd6hR8_Hwq0b",
        "outputId": "da0e445d-ee2d-492c-f66e-a2e6266bb63a"
      },
      "outputs": [],
      "source": [
        "start_api()"
      ]
    },
    {
      "cell_type": "markdown",
      "metadata": {
        "id": "dyrQ4fjGgRWC"
      },
      "source": [
        "# 5. Make API calls and see what comes out!\n",
        "\n",
        "Make adjustments here to add a client id as an input in an API call. Hint: You add variables to an API call by starting with a \"?\" and then adding the parameter name and value you want to assign to it."
      ]
    },
    {
      "cell_type": "code",
      "execution_count": null,
      "metadata": {
        "colab": {
          "base_uri": "https://localhost:8080/"
        },
        "id": "Muoo4Jbbwzbb",
        "outputId": "747322dd-fe11-46d4-bc2b-8386ce55399e"
      },
      "outputs": [],
      "source": [
        "import requests\n",
        "\n",
        "# Request a response from the API that's now running\n",
        "response = requests.get('http://127.0.0.1:8000/?name=\"Mia\"')\n",
        "\n",
        "\n",
        "#response = ...\n",
        "\n",
        "# Show the response\n",
        "response.json()"
      ]
    }
  ],
  "metadata": {
    "colab": {
      "provenance": []
    },
    "kernelspec": {
      "display_name": "Python 3",
      "name": "python3"
    },
    "language_info": {
      "name": "python"
    }
  },
  "nbformat": 4,
  "nbformat_minor": 0
}
