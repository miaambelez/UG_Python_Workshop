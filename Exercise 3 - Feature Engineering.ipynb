{
 "cells": [
  {
   "cell_type": "code",
   "execution_count": null,
   "metadata": {},
   "outputs": [],
   "source": [
    "# Preliminary: if running on Colab, get the data from GitHub\n",
    "try:\n",
    "  import google.colab\n",
    "  print(\"Downloading data from GitHub...\")\n",
    "  !wget -nc -P'Data' https://github.com/miaambelez/UG_Python_Workshop/raw/main/Data/Exercise3.csv\n",
    "  print(\"...done!\")\n",
    "except:\n",
    "  print(\"Running locally, data should be already on path!\")"
   ]
  },
  {
   "attachments": {},
   "cell_type": "markdown",
   "metadata": {},
   "source": [
    "### Exercise 3: Feature engineering"
   ]
  },
  {
   "cell_type": "code",
   "execution_count": null,
   "metadata": {},
   "outputs": [],
   "source": [
    "import pandas as pd"
   ]
  },
  {
   "attachments": {},
   "cell_type": "markdown",
   "metadata": {},
   "source": [
    "In this exercise we will peform feature engineering steps. In particular, we will fill missing value, correct outliers, and convert text to numbers."
   ]
  },
  {
   "cell_type": "code",
   "execution_count": null,
   "metadata": {},
   "outputs": [],
   "source": [
    "df = pd.read_csv('Data/Exercise3.csv')"
   ]
  },
  {
   "attachments": {},
   "cell_type": "markdown",
   "metadata": {},
   "source": [
    "A first exercise is to drop duplicate rows. These rows do not include any additional information and may contaminate the data. However, in general, it should be investigated whether duplicates actually introduce noise to the data. It can for example occur that it perfectly makes sense that rows coincidentally have identical values. Use pandas to drop duplicate values from the dataframe."
   ]
  },
  {
   "cell_type": "code",
   "execution_count": null,
   "metadata": {},
   "outputs": [],
   "source": [
    "# your code here"
   ]
  },
  {
   "attachments": {},
   "cell_type": "markdown",
   "metadata": {},
   "source": [
    "Next, we want to impute any missing values. For now, we will impute the N_FAMILY and SMOKER column. Fill the N_FAMILY column with the average family size. For the SMOKER column, assume that when it is unknown whether someone smokes, this person does not smoke."
   ]
  },
  {
   "cell_type": "code",
   "execution_count": null,
   "metadata": {},
   "outputs": [],
   "source": [
    "df['N_FAMILY'] = # your code here\n",
    "df['SMOKER'] = # your code here"
   ]
  },
  {
   "attachments": {},
   "cell_type": "markdown",
   "metadata": {},
   "source": [
    "During the data exploration we discovered that the 'AGE' column contains missing values. Furthermore, ages above 100 will be considered as an outlier. One way of correcting the 'AGE' column is to use the 'DATE_OF_BIRTH_YEAR' column instead, combined with the current year. After all, the difference between the year you were born and the current year determines your age. Complete the following code to select only rows where 'AGE' is NULL or where 'AGE' is larger than 100. Next, use the current year to determine the age."
   ]
  },
  {
   "cell_type": "code",
   "execution_count": null,
   "metadata": {},
   "outputs": [],
   "source": [
    "# Replace nulls with age based on year of birth \n",
    "df.loc[<your-code-here>,'AGE'] = <your-code-here> - df['DATE_OF_BIRTH_YEAR']\n",
    "\n",
    "# Replace age > 100 with age based on year of birth \n",
    "df.loc[<your-code-here>,'AGE'] = <your-code-here> - df['DATE_OF_BIRTH_YEAR']"
   ]
  },
  {
   "attachments": {},
   "cell_type": "markdown",
   "metadata": {},
   "source": [
    "Next, we drop rows with probabilities larger than one. "
   ]
  },
  {
   "cell_type": "code",
   "execution_count": null,
   "metadata": {},
   "outputs": [],
   "source": [
    "df = df.drop(df[df['PR_DENTIST'] > 1].index)"
   ]
  },
  {
   "attachments": {},
   "cell_type": "markdown",
   "metadata": {},
   "source": [
    "The 'N_FILLING' column contains both text and numbers. These should all be converted to numbers. Execute the following cell to find out what the text values are. Then, enter the correct text values that should be replaced."
   ]
  },
  {
   "cell_type": "code",
   "execution_count": null,
   "metadata": {},
   "outputs": [],
   "source": [
    "df['N_FILLING'].value_counts().sort_index()"
   ]
  },
  {
   "cell_type": "code",
   "execution_count": null,
   "metadata": {},
   "outputs": [],
   "source": [
    "# Replace the string values for non-integer values\n",
    "df['N_FILLING'] = df['N_FILLING'].replace('no', '0')\n",
    "df['N_FILLING'] = df['N_FILLING'].replace(<your-code-here>, '0')\n",
    "df['N_FILLING'] = df['N_FILLING'].replace(<your-code-here>, '1')\n",
    "df['N_FILLING'] = df['N_FILLING'].replace(<your-code-here>, '3')\n",
    "df['N_FILLING'] = df['N_FILLING'].replace(<your-code-here>, '5')\n",
    "\n",
    "df['N_FILLING'] = df['N_FILLING'].astype('float')"
   ]
  },
  {
   "attachments": {},
   "cell_type": "markdown",
   "metadata": {},
   "source": [
    "The same problem applies to the 'SMOKER' column. Implement the same solution for this column. Hint: make use of  ```value_counts().sort_index()```"
   ]
  },
  {
   "cell_type": "code",
   "execution_count": null,
   "metadata": {},
   "outputs": [],
   "source": [
    "# Count the number of value occurences in the SMOKER column\n",
    "# your code here"
   ]
  },
  {
   "cell_type": "code",
   "execution_count": null,
   "metadata": {},
   "outputs": [],
   "source": [
    "# Replace the string values for non-integer values as done above\n",
    "# your code here"
   ]
  },
  {
   "attachments": {},
   "cell_type": "markdown",
   "metadata": {},
   "source": [
    "Sometimes it makes sense to group values of certain variables. For example, would it really make a difference whether someone is 53 of 54 in his likelihood to develop caries? Or does it also make sense to distinguish between certain age groups? Divide the AGE column into 5 age categories. Hint: look into pandas cut(). Also, give every category a unique name. You might want to look into the label argument of the cut() function. Make sure to also drop the original age category."
   ]
  },
  {
   "cell_type": "code",
   "execution_count": null,
   "metadata": {},
   "outputs": [],
   "source": [
    "df['AGE_CATEGORY'] = # your code here"
   ]
  },
  {
   "attachments": {},
   "cell_type": "markdown",
   "metadata": {},
   "source": [
    "Next, convert the categorical column to a dummy column. Hint: pandas get_dummies(). "
   ]
  },
  {
   "cell_type": "code",
   "execution_count": null,
   "metadata": {},
   "outputs": [],
   "source": [
    "# your code here"
   ]
  },
  {
   "attachments": {},
   "cell_type": "markdown",
   "metadata": {},
   "source": [
    "### Extra exercises"
   ]
  },
  {
   "attachments": {},
   "cell_type": "markdown",
   "metadata": {},
   "source": [
    "It is also possible for new features to be created, for example it would be more interesting to know how many checks the patient has had relative to the number of years the data has been collected as this is more informative than just number of checkups. Implement a feature that contains the number of checks per year"
   ]
  },
  {
   "cell_type": "code",
   "execution_count": null,
   "metadata": {},
   "outputs": [],
   "source": [
    "# your code here"
   ]
  },
  {
   "attachments": {},
   "cell_type": "markdown",
   "metadata": {},
   "source": [
    "Can you think of any other features that can be derived from the data?"
   ]
  },
  {
   "cell_type": "code",
   "execution_count": null,
   "metadata": {},
   "outputs": [],
   "source": [
    "# your code here"
   ]
  }
 ],
 "metadata": {
  "kernelspec": {
   "display_name": "python-training",
   "language": "python",
   "name": "python3"
  },
  "language_info": {
   "codemirror_mode": {
    "name": "ipython",
    "version": 3
   },
   "file_extension": ".py",
   "mimetype": "text/x-python",
   "name": "python",
   "nbconvert_exporter": "python",
   "pygments_lexer": "ipython3",
   "version": "3.9.16"
  },
  "orig_nbformat": 4,
  "vscode": {
   "interpreter": {
    "hash": "7ca4bd901dc1bfeb72df468cc9c49430605f3251de1469741924421f1c1d0827"
   }
  }
 },
 "nbformat": 4,
 "nbformat_minor": 2
}
